{
 "cells": [
  {
   "cell_type": "markdown",
   "id": "a3b67ae0-ff26-4f3d-951c-ea3cc129166c",
   "metadata": {},
   "source": [
    "## Atividade - Limpeza e Tratamento dos Dados\n",
    "Utilize o arquivo “jogadores.csv” para realizar esta atividade. Seguindo o exemplo realizado em aula, faça a análise exploratória do data frame, verificando valores nulos, fora do padrão, e longe do conjunto de dados. Aplique os tratamentos necessários, justificando as suas decisões.\n",
    "\n",
    "Informações sobre a base de dados: Esta base de dados compreende os usuários de um jogo de RPG. Os valores de Score variam entre 0 e 1000000 (um milhão). Os valores de nível variam entre 0 e 1000. As idades variam entre 0 e 100."
   ]
  },
  {
   "cell_type": "code",
   "execution_count": 261,
   "id": "8a308f45-0a35-4080-9012-59f52b8ab6ca",
   "metadata": {},
   "outputs": [],
   "source": [
    "## importar as bibliotecas\n",
    "import pandas as pd\n",
    "import seaborn as srn\n",
    "import statistics as sts"
   ]
  },
  {
   "cell_type": "code",
   "execution_count": 264,
   "id": "17cf9d7f-7322-4f88-9732-ab38ae19b299",
   "metadata": {},
   "outputs": [],
   "source": [
    "## importar o arquivo jogadores.cvs\n",
    "df = pd.read_csv('jogadores.csv')"
   ]
  },
  {
   "cell_type": "code",
   "execution_count": 266,
   "id": "7fad3467-d04c-4a3a-820a-7c806c0020d2",
   "metadata": {},
   "outputs": [
    {
     "data": {
      "text/plain": [
       "(1000, 6)"
      ]
     },
     "execution_count": 266,
     "metadata": {},
     "output_type": "execute_result"
    }
   ],
   "source": [
    "## formato do dataframe\n",
    "df.shape"
   ]
  },
  {
   "cell_type": "code",
   "execution_count": 268,
   "id": "e257563a-ff9f-40b9-b8ec-bd25e51388be",
   "metadata": {},
   "outputs": [
    {
     "data": {
      "text/html": [
       "<div>\n",
       "<style scoped>\n",
       "    .dataframe tbody tr th:only-of-type {\n",
       "        vertical-align: middle;\n",
       "    }\n",
       "\n",
       "    .dataframe tbody tr th {\n",
       "        vertical-align: top;\n",
       "    }\n",
       "\n",
       "    .dataframe thead th {\n",
       "        text-align: right;\n",
       "    }\n",
       "</style>\n",
       "<table border=\"1\" class=\"dataframe\">\n",
       "  <thead>\n",
       "    <tr style=\"text-align: right;\">\n",
       "      <th></th>\n",
       "      <th>id</th>\n",
       "      <th>score</th>\n",
       "      <th>nivel</th>\n",
       "      <th>categoria</th>\n",
       "      <th>idade</th>\n",
       "      <th>pais</th>\n",
       "    </tr>\n",
       "  </thead>\n",
       "  <tbody>\n",
       "    <tr>\n",
       "      <th>0</th>\n",
       "      <td>1</td>\n",
       "      <td>321057.0</td>\n",
       "      <td>321.0</td>\n",
       "      <td>elfo</td>\n",
       "      <td>43.0</td>\n",
       "      <td>United States</td>\n",
       "    </tr>\n",
       "    <tr>\n",
       "      <th>1</th>\n",
       "      <td>2</td>\n",
       "      <td>495527.0</td>\n",
       "      <td>466.0</td>\n",
       "      <td>mago</td>\n",
       "      <td>16.0</td>\n",
       "      <td>Canada</td>\n",
       "    </tr>\n",
       "    <tr>\n",
       "      <th>2</th>\n",
       "      <td>3</td>\n",
       "      <td>700848.0</td>\n",
       "      <td>255.0</td>\n",
       "      <td>NaN</td>\n",
       "      <td>54.0</td>\n",
       "      <td>United States</td>\n",
       "    </tr>\n",
       "    <tr>\n",
       "      <th>3</th>\n",
       "      <td>4</td>\n",
       "      <td>985558.0</td>\n",
       "      <td>679.0</td>\n",
       "      <td>mago</td>\n",
       "      <td>87.0</td>\n",
       "      <td>Brazil</td>\n",
       "    </tr>\n",
       "    <tr>\n",
       "      <th>4</th>\n",
       "      <td>5</td>\n",
       "      <td>517633.0</td>\n",
       "      <td>752.0</td>\n",
       "      <td>guerreiro</td>\n",
       "      <td>69.0</td>\n",
       "      <td>Japan</td>\n",
       "    </tr>\n",
       "  </tbody>\n",
       "</table>\n",
       "</div>"
      ],
      "text/plain": [
       "   id     score  nivel  categoria  idade           pais\n",
       "0   1  321057.0  321.0       elfo   43.0  United States\n",
       "1   2  495527.0  466.0       mago   16.0         Canada\n",
       "2   3  700848.0  255.0        NaN   54.0  United States\n",
       "3   4  985558.0  679.0       mago   87.0         Brazil\n",
       "4   5  517633.0  752.0  guerreiro   69.0          Japan"
      ]
     },
     "execution_count": 268,
     "metadata": {},
     "output_type": "execute_result"
    }
   ],
   "source": [
    "## Exibir as primeiras 5 linhas\n",
    "df.head()"
   ]
  },
  {
   "cell_type": "code",
   "execution_count": 270,
   "id": "53e5d61b-b871-43e5-8a26-8e9a56073d59",
   "metadata": {},
   "outputs": [
    {
     "data": {
      "text/html": [
       "<div>\n",
       "<style scoped>\n",
       "    .dataframe tbody tr th:only-of-type {\n",
       "        vertical-align: middle;\n",
       "    }\n",
       "\n",
       "    .dataframe tbody tr th {\n",
       "        vertical-align: top;\n",
       "    }\n",
       "\n",
       "    .dataframe thead th {\n",
       "        text-align: right;\n",
       "    }\n",
       "</style>\n",
       "<table border=\"1\" class=\"dataframe\">\n",
       "  <thead>\n",
       "    <tr style=\"text-align: right;\">\n",
       "      <th></th>\n",
       "      <th>id</th>\n",
       "      <th>score</th>\n",
       "      <th>nivel</th>\n",
       "      <th>categoria</th>\n",
       "      <th>idade</th>\n",
       "      <th>pais</th>\n",
       "    </tr>\n",
       "  </thead>\n",
       "  <tbody>\n",
       "    <tr>\n",
       "      <th>995</th>\n",
       "      <td>996</td>\n",
       "      <td>146132.0</td>\n",
       "      <td>417.0</td>\n",
       "      <td>elfo</td>\n",
       "      <td>78.0</td>\n",
       "      <td>Japan</td>\n",
       "    </tr>\n",
       "    <tr>\n",
       "      <th>996</th>\n",
       "      <td>997</td>\n",
       "      <td>845482.0</td>\n",
       "      <td>588.0</td>\n",
       "      <td>orc</td>\n",
       "      <td>69.0</td>\n",
       "      <td>Portugal</td>\n",
       "    </tr>\n",
       "    <tr>\n",
       "      <th>997</th>\n",
       "      <td>998</td>\n",
       "      <td>230131.0</td>\n",
       "      <td>660.0</td>\n",
       "      <td>mago</td>\n",
       "      <td>57.0</td>\n",
       "      <td>Japan</td>\n",
       "    </tr>\n",
       "    <tr>\n",
       "      <th>998</th>\n",
       "      <td>999</td>\n",
       "      <td>635044.0</td>\n",
       "      <td>731.0</td>\n",
       "      <td>orc</td>\n",
       "      <td>17.0</td>\n",
       "      <td>Brazil</td>\n",
       "    </tr>\n",
       "    <tr>\n",
       "      <th>999</th>\n",
       "      <td>1000</td>\n",
       "      <td>317887.0</td>\n",
       "      <td>477.0</td>\n",
       "      <td>orc</td>\n",
       "      <td>64.0</td>\n",
       "      <td>Brazil</td>\n",
       "    </tr>\n",
       "  </tbody>\n",
       "</table>\n",
       "</div>"
      ],
      "text/plain": [
       "       id     score  nivel categoria  idade      pais\n",
       "995   996  146132.0  417.0      elfo   78.0     Japan\n",
       "996   997  845482.0  588.0       orc   69.0  Portugal\n",
       "997   998  230131.0  660.0      mago   57.0     Japan\n",
       "998   999  635044.0  731.0       orc   17.0    Brazil\n",
       "999  1000  317887.0  477.0       orc   64.0    Brazil"
      ]
     },
     "execution_count": 270,
     "metadata": {},
     "output_type": "execute_result"
    }
   ],
   "source": [
    "## Exibir as ultimas 5 linhas\n",
    "df.tail()"
   ]
  },
  {
   "cell_type": "markdown",
   "id": "2a2f5ffb-cdea-464b-a7e0-67f90ef2a98c",
   "metadata": {},
   "source": [
    "## Preparação dos Dados\n",
    "Informações sobre a base de dados:\n",
    "* Esta base de dados compreende os usuários de um jogo de RPG.\n",
    "* Os valores de Score variam entre 0 e 1000000 (um milhão).\n",
    "* Os valores de nível variam entre 0 e 1000.\n",
    "* As idades variam entre 0 e 100."
   ]
  },
  {
   "cell_type": "code",
   "execution_count": 272,
   "id": "97847938-6b59-4a73-af32-b89c87aa94c7",
   "metadata": {},
   "outputs": [],
   "source": [
    "## Renomear as colunas\n",
    "df.rename(columns={\n",
    "    'id': 'Id',\n",
    "    'score': 'Score',\n",
    "    'nivel': 'Nivel',\n",
    "    'categoria': 'Categoria',\n",
    "    'idade': 'Idade',\n",
    "    'pais': 'Pais'\n",
    "}, inplace=True)"
   ]
  },
  {
   "cell_type": "code",
   "execution_count": 274,
   "id": "a5e05880-4254-471a-958d-ae00e84fcf6b",
   "metadata": {},
   "outputs": [
    {
     "data": {
      "text/html": [
       "<div>\n",
       "<style scoped>\n",
       "    .dataframe tbody tr th:only-of-type {\n",
       "        vertical-align: middle;\n",
       "    }\n",
       "\n",
       "    .dataframe tbody tr th {\n",
       "        vertical-align: top;\n",
       "    }\n",
       "\n",
       "    .dataframe thead th {\n",
       "        text-align: right;\n",
       "    }\n",
       "</style>\n",
       "<table border=\"1\" class=\"dataframe\">\n",
       "  <thead>\n",
       "    <tr style=\"text-align: right;\">\n",
       "      <th></th>\n",
       "      <th>Id</th>\n",
       "      <th>Score</th>\n",
       "      <th>Nivel</th>\n",
       "      <th>Categoria</th>\n",
       "      <th>Idade</th>\n",
       "      <th>Pais</th>\n",
       "    </tr>\n",
       "  </thead>\n",
       "  <tbody>\n",
       "    <tr>\n",
       "      <th>0</th>\n",
       "      <td>1</td>\n",
       "      <td>321057.0</td>\n",
       "      <td>321.0</td>\n",
       "      <td>elfo</td>\n",
       "      <td>43.0</td>\n",
       "      <td>United States</td>\n",
       "    </tr>\n",
       "  </tbody>\n",
       "</table>\n",
       "</div>"
      ],
      "text/plain": [
       "   Id     Score  Nivel Categoria  Idade           Pais\n",
       "0   1  321057.0  321.0      elfo   43.0  United States"
      ]
     },
     "execution_count": 274,
     "metadata": {},
     "output_type": "execute_result"
    }
   ],
   "source": [
    "## Exibir a primeira linha da tabela para verificar se as colunas foram nomeadas corretamente\n",
    "df.head(1)"
   ]
  },
  {
   "cell_type": "markdown",
   "id": "dfa5a4da-c51b-4db2-b201-6bcf7dce54ea",
   "metadata": {},
   "source": [
    "## Análise Exploratória\n",
    "* Dados categóricos: categoria, pais\n",
    "* Dados numéricos: score, nivel e idade\n",
    "* Verificar valores nulos/NaN"
   ]
  },
  {
   "cell_type": "markdown",
   "id": "88674637-cc19-46ff-8f96-a175ef52dd99",
   "metadata": {},
   "source": [
    "## Dados categóricos\n",
    "* Agrupar e fazer contagem por categoria\n",
    "* Analisar a distribuição dos dados utilizando um gráficos de barras"
   ]
  },
  {
   "cell_type": "markdown",
   "id": "e40f46a7-01a6-4b75-97fd-4f0a88183d13",
   "metadata": {},
   "source": [
    "## Categoria"
   ]
  },
  {
   "cell_type": "code",
   "execution_count": 276,
   "id": "03827552-ef59-4944-9e0f-a3f8803ccb8d",
   "metadata": {},
   "outputs": [
    {
     "data": {
      "text/plain": [
       "Categoria\n",
       "elfo         238\n",
       "guerreiro    242\n",
       "m@go           1\n",
       "mago         275\n",
       "orc          241\n",
       "dtype: int64"
      ]
     },
     "execution_count": 276,
     "metadata": {},
     "output_type": "execute_result"
    }
   ],
   "source": [
    "## Agrupar\n",
    "df_categoria = df.groupby(['Categoria']).size()\n",
    "df_categoria"
   ]
  },
  {
   "cell_type": "code",
   "execution_count": 278,
   "id": "373817d6-7483-4404-8977-61bbe918f6be",
   "metadata": {},
   "outputs": [
    {
     "data": {
      "text/plain": [
       "<Axes: xlabel='Categoria'>"
      ]
     },
     "execution_count": 278,
     "metadata": {},
     "output_type": "execute_result"
    },
    {
     "data": {
      "image/png": "[encoded data removed]",
      "text/plain": [
       "<Figure size 640x480 with 1 Axes>"
      ]
     },
     "metadata": {},
     "output_type": "display_data"
    }
   ],
   "source": [
    "## Gráfico de barras\n",
    "df_categoria.plot.bar()"
   ]
  },
  {
   "cell_type": "markdown",
   "id": "4e281af9-aa35-49ee-a837-e0c64545c660",
   "metadata": {},
   "source": [
    "## Pais"
   ]
  },
  {
   "cell_type": "code",
   "execution_count": 280,
   "id": "9c98e7ee-a8a9-4431-ae6f-fdb379374718",
   "metadata": {},
   "outputs": [
    {
     "data": {
      "text/plain": [
       "Pais\n",
       "%apan               1\n",
       "Australia           7\n",
       "Brazil            279\n",
       "C#nada              1\n",
       "Canada             93\n",
       "Italy              10\n",
       "Japan             130\n",
       "Mexico             74\n",
       "Portuga&            1\n",
       "Portugal          222\n",
       "Spain              14\n",
       "United Kingdom     16\n",
       "United States     150\n",
       "dtype: int64"
      ]
     },
     "execution_count": 280,
     "metadata": {},
     "output_type": "execute_result"
    }
   ],
   "source": [
    "## Agrupar\n",
    "df_pais = df.groupby(['Pais']).size()\n",
    "df_pais"
   ]
  },
  {
   "cell_type": "code",
   "execution_count": 282,
   "id": "b946bc3f-9834-44a5-9e2c-a47cc3084139",
   "metadata": {},
   "outputs": [
    {
     "data": {
      "text/plain": [
       "<Axes: xlabel='Pais'>"
      ]
     },
     "execution_count": 282,
     "metadata": {},
     "output_type": "execute_result"
    },
    {
     "data": {
      "image/png": "[encoded data removed]",
      "text/plain": [
       "<Figure size 640x480 with 1 Axes>"
      ]
     },
     "metadata": {},
     "output_type": "display_data"
    }
   ],
   "source": [
    "## Gráfico de barras\n",
    "df_pais.plot.bar()"
   ]
  },
  {
   "cell_type": "markdown",
   "id": "221b7289-c3ff-44e6-9028-bde69528e5d9",
   "metadata": {},
   "source": [
    "## Dados numéricos\n",
    "* Resumo estatístico\n",
    "* Verificar a distribuição de dados com boxplot e histograma"
   ]
  },
  {
   "cell_type": "code",
   "execution_count": 284,
   "id": "1732afcd-dd2d-401a-ad5f-3125553d6559",
   "metadata": {},
   "outputs": [
    {
     "data": {
      "text/html": [
       "<div>\n",
       "<style scoped>\n",
       "    .dataframe tbody tr th:only-of-type {\n",
       "        vertical-align: middle;\n",
       "    }\n",
       "\n",
       "    .dataframe tbody tr th {\n",
       "        vertical-align: top;\n",
       "    }\n",
       "\n",
       "    .dataframe thead th {\n",
       "        text-align: right;\n",
       "    }\n",
       "</style>\n",
       "<table border=\"1\" class=\"dataframe\">\n",
       "  <thead>\n",
       "    <tr style=\"text-align: right;\">\n",
       "      <th></th>\n",
       "      <th>Id</th>\n",
       "      <th>Score</th>\n",
       "      <th>Nivel</th>\n",
       "      <th>Idade</th>\n",
       "    </tr>\n",
       "  </thead>\n",
       "  <tbody>\n",
       "    <tr>\n",
       "      <th>count</th>\n",
       "      <td>1000.000000</td>\n",
       "      <td>998.000000</td>\n",
       "      <td>998.000000</td>\n",
       "      <td>997.000000</td>\n",
       "    </tr>\n",
       "    <tr>\n",
       "      <th>mean</th>\n",
       "      <td>500.500000</td>\n",
       "      <td>496350.856713</td>\n",
       "      <td>495.098196</td>\n",
       "      <td>56.822467</td>\n",
       "    </tr>\n",
       "    <tr>\n",
       "      <th>std</th>\n",
       "      <td>288.819436</td>\n",
       "      <td>283458.860428</td>\n",
       "      <td>288.395089</td>\n",
       "      <td>25.249907</td>\n",
       "    </tr>\n",
       "    <tr>\n",
       "      <th>min</th>\n",
       "      <td>1.000000</td>\n",
       "      <td>-464.000000</td>\n",
       "      <td>-516.000000</td>\n",
       "      <td>12.000000</td>\n",
       "    </tr>\n",
       "    <tr>\n",
       "      <th>25%</th>\n",
       "      <td>250.750000</td>\n",
       "      <td>259577.250000</td>\n",
       "      <td>247.750000</td>\n",
       "      <td>35.000000</td>\n",
       "    </tr>\n",
       "    <tr>\n",
       "      <th>50%</th>\n",
       "      <td>500.500000</td>\n",
       "      <td>497023.500000</td>\n",
       "      <td>493.500000</td>\n",
       "      <td>59.000000</td>\n",
       "    </tr>\n",
       "    <tr>\n",
       "      <th>75%</th>\n",
       "      <td>750.250000</td>\n",
       "      <td>745172.500000</td>\n",
       "      <td>742.000000</td>\n",
       "      <td>78.000000</td>\n",
       "    </tr>\n",
       "    <tr>\n",
       "      <th>max</th>\n",
       "      <td>1000.000000</td>\n",
       "      <td>998871.000000</td>\n",
       "      <td>1000.000000</td>\n",
       "      <td>133.000000</td>\n",
       "    </tr>\n",
       "  </tbody>\n",
       "</table>\n",
       "</div>"
      ],
      "text/plain": [
       "                Id          Score        Nivel       Idade\n",
       "count  1000.000000     998.000000   998.000000  997.000000\n",
       "mean    500.500000  496350.856713   495.098196   56.822467\n",
       "std     288.819436  283458.860428   288.395089   25.249907\n",
       "min       1.000000    -464.000000  -516.000000   12.000000\n",
       "25%     250.750000  259577.250000   247.750000   35.000000\n",
       "50%     500.500000  497023.500000   493.500000   59.000000\n",
       "75%     750.250000  745172.500000   742.000000   78.000000\n",
       "max    1000.000000  998871.000000  1000.000000  133.000000"
      ]
     },
     "execution_count": 284,
     "metadata": {},
     "output_type": "execute_result"
    }
   ],
   "source": [
    "## Análise geral\n",
    "df.describe()"
   ]
  },
  {
   "cell_type": "markdown",
   "id": "d4d6d719-359b-4f5c-8e93-c80628b7620d",
   "metadata": {},
   "source": [
    "## Score"
   ]
  },
  {
   "cell_type": "code",
   "execution_count": 286,
   "id": "dc08fadc-7d30-40aa-b781-7d063cb1b310",
   "metadata": {},
   "outputs": [
    {
     "data": {
      "text/plain": [
       "count       998.000000\n",
       "mean     496350.856713\n",
       "std      283458.860428\n",
       "min        -464.000000\n",
       "25%      259577.250000\n",
       "50%      497023.500000\n",
       "75%      745172.500000\n",
       "max      998871.000000\n",
       "Name: Score, dtype: float64"
      ]
     },
     "execution_count": 286,
     "metadata": {},
     "output_type": "execute_result"
    }
   ],
   "source": [
    "## Resumo estatístico\n",
    "df['Score'].describe()"
   ]
  },
  {
   "cell_type": "code",
   "execution_count": 288,
   "id": "0b8415b7-5681-4631-bc65-43dc485a65ea",
   "metadata": {},
   "outputs": [
    {
     "data": {
      "text/plain": [
       "Text(0.5, 1.0, 'Score')"
      ]
     },
     "execution_count": 288,
     "metadata": {},
     "output_type": "execute_result"
    },
    {
     "data": {
      "image/png": "[encoded data removed]",
      "text/plain": [
       "<Figure size 640x480 with 1 Axes>"
      ]
     },
     "metadata": {},
     "output_type": "display_data"
    }
   ],
   "source": [
    "## boxplot para verificar outliers (valores fora do conjunto)\n",
    "srn.boxplot(df['Score']).set_title('Score')"
   ]
  },
  {
   "cell_type": "code",
   "execution_count": 290,
   "id": "803a1128-21d3-4350-8ce1-ee3099ce4953",
   "metadata": {},
   "outputs": [
    {
     "data": {
      "text/plain": [
       "Text(0.5, 1.0, 'Score')"
      ]
     },
     "execution_count": 290,
     "metadata": {},
     "output_type": "execute_result"
    },
    {
     "data": {
      "image/png": "[encoded data removed]",
      "text/plain": [
       "<Figure size 640x480 with 1 Axes>"
      ]
     },
     "metadata": {},
     "output_type": "display_data"
    }
   ],
   "source": [
    "## histograma para distribuição das frequencias\n",
    "srn.histplot(df['Score']).set_title('Score')"
   ]
  },
  {
   "cell_type": "markdown",
   "id": "f7179f9d-8ab4-49d5-b64c-40504bb0afc1",
   "metadata": {},
   "source": [
    "## Nivel"
   ]
  },
  {
   "cell_type": "code",
   "execution_count": 292,
   "id": "51a84ce6-d306-4e94-9d45-0765dd1ef974",
   "metadata": {},
   "outputs": [
    {
     "data": {
      "text/plain": [
       "count     998.000000\n",
       "mean      495.098196\n",
       "std       288.395089\n",
       "min      -516.000000\n",
       "25%       247.750000\n",
       "50%       493.500000\n",
       "75%       742.000000\n",
       "max      1000.000000\n",
       "Name: Nivel, dtype: float64"
      ]
     },
     "execution_count": 292,
     "metadata": {},
     "output_type": "execute_result"
    }
   ],
   "source": [
    "## Resumo estatístico\n",
    "df['Nivel'].describe()"
   ]
  },
  {
   "cell_type": "code",
   "execution_count": 294,
   "id": "e8d2ea03-47a4-4c0d-8536-169725d9efa6",
   "metadata": {},
   "outputs": [
    {
     "data": {
      "text/plain": [
       "Text(0.5, 1.0, 'Nivel')"
      ]
     },
     "execution_count": 294,
     "metadata": {},
     "output_type": "execute_result"
    },
    {
     "data": {
      "image/png": "[encoded data removed]",
      "text/plain": [
       "<Figure size 640x480 with 1 Axes>"
      ]
     },
     "metadata": {},
     "output_type": "display_data"
    }
   ],
   "source": [
    "## boxplot para verificar outliers (valores fora do conjunto)\n",
    "srn.boxplot(df['Nivel']).set_title('Nivel')"
   ]
  },
  {
   "cell_type": "code",
   "execution_count": 296,
   "id": "467b2b25-c588-4a40-be5b-48aeda243a78",
   "metadata": {},
   "outputs": [
    {
     "data": {
      "text/plain": [
       "Text(0.5, 1.0, 'Nivel')"
      ]
     },
     "execution_count": 296,
     "metadata": {},
     "output_type": "execute_result"
    },
    {
     "data": {
      "image/png": "[encoded data removed]",
      "text/plain": [
       "<Figure size 640x480 with 1 Axes>"
      ]
     },
     "metadata": {},
     "output_type": "display_data"
    }
   ],
   "source": [
    "## histograma para distribuição das frequencias\n",
    "srn.histplot(df['Nivel']).set_title('Nivel')"
   ]
  },
  {
   "cell_type": "markdown",
   "id": "c594fc85-e3c8-4aac-9019-b01d3c2f1620",
   "metadata": {},
   "source": [
    "## Idade"
   ]
  },
  {
   "cell_type": "code",
   "execution_count": 298,
   "id": "716d8a65-93e6-455e-8a6f-c93d5afbddab",
   "metadata": {},
   "outputs": [
    {
     "data": {
      "text/plain": [
       "count    997.000000\n",
       "mean      56.822467\n",
       "std       25.249907\n",
       "min       12.000000\n",
       "25%       35.000000\n",
       "50%       59.000000\n",
       "75%       78.000000\n",
       "max      133.000000\n",
       "Name: Idade, dtype: float64"
      ]
     },
     "execution_count": 298,
     "metadata": {},
     "output_type": "execute_result"
    }
   ],
   "source": [
    "## Resumo estatístico\n",
    "df['Idade'].describe()"
   ]
  },
  {
   "cell_type": "code",
   "execution_count": 300,
   "id": "fa32d83b-b7ba-4d63-8fcc-422537707244",
   "metadata": {},
   "outputs": [
    {
     "data": {
      "text/plain": [
       "count    997.000000\n",
       "mean      56.822467\n",
       "std       25.249907\n",
       "min       12.000000\n",
       "25%       35.000000\n",
       "50%       59.000000\n",
       "75%       78.000000\n",
       "max      133.000000\n",
       "Name: Idade, dtype: float64"
      ]
     },
     "execution_count": 300,
     "metadata": {},
     "output_type": "execute_result"
    }
   ],
   "source": [
    "## Resumo estatístico\n",
    "df['Idade'].describe()"
   ]
  },
  {
   "cell_type": "code",
   "execution_count": 302,
   "id": "1d669020-fa6d-4086-b611-ad14d5859c75",
   "metadata": {},
   "outputs": [
    {
     "data": {
      "text/plain": [
       "Text(0.5, 1.0, 'Idade')"
      ]
     },
     "execution_count": 302,
     "metadata": {},
     "output_type": "execute_result"
    },
    {
     "data": {
      "image/png": "[encoded data removed]",
      "text/plain": [
       "<Figure size 640x480 with 1 Axes>"
      ]
     },
     "metadata": {},
     "output_type": "display_data"
    }
   ],
   "source": [
    "## boxplot para verificar outliers (valores fora do conjunto)\n",
    "srn.boxplot(df['Idade']).set_title('Idade')"
   ]
  },
  {
   "cell_type": "code",
   "execution_count": 304,
   "id": "089b0268-6b11-4259-98e8-657434424679",
   "metadata": {},
   "outputs": [
    {
     "data": {
      "text/plain": [
       "Text(0.5, 1.0, 'Idade')"
      ]
     },
     "execution_count": 304,
     "metadata": {},
     "output_type": "execute_result"
    },
    {
     "data": {
      "image/png": "[encoded data removed]",
      "text/plain": [
       "<Figure size 640x480 with 1 Axes>"
      ]
     },
     "metadata": {},
     "output_type": "display_data"
    }
   ],
   "source": [
    "## histograma para distribuição das frequencias\n",
    "srn.histplot(df['Idade']).set_title('Idade')"
   ]
  },
  {
   "cell_type": "markdown",
   "id": "022d07dd-55cf-4237-b217-537e0e9c2a02",
   "metadata": {},
   "source": [
    "## Verificação de valores nulos"
   ]
  },
  {
   "cell_type": "code",
   "execution_count": 306,
   "id": "c98dcd93-d354-40b7-a2c7-235db5be7e31",
   "metadata": {},
   "outputs": [
    {
     "data": {
      "text/plain": [
       "Id           0\n",
       "Score        2\n",
       "Nivel        2\n",
       "Categoria    3\n",
       "Idade        3\n",
       "Pais         2\n",
       "dtype: int64"
      ]
     },
     "execution_count": 306,
     "metadata": {},
     "output_type": "execute_result"
    }
   ],
   "source": [
    "## verificar se existe valores nulos na tabela jogadores.cvs\n",
    "df.isnull().sum()"
   ]
  },
  {
   "cell_type": "markdown",
   "id": "cc7b9ce2-a5ee-4f9d-b833-2bf16a615ddc",
   "metadata": {},
   "source": [
    "## Tratamento dos Dados\n",
    "* Dados categóricos: substitui pela moda (valor mais frequente)\n",
    "* Dados numéricos: substituir pela mediana"
   ]
  },
  {
   "cell_type": "markdown",
   "id": "4971dcba-1f91-4682-abde-25d6469eb781",
   "metadata": {},
   "source": [
    "## Categoria"
   ]
  },
  {
   "cell_type": "code",
   "execution_count": 316,
   "id": "0f71d5d8-3688-4fd3-aef2-0df7f9434645",
   "metadata": {},
   "outputs": [
    {
     "data": {
      "text/plain": [
       "Categoria\n",
       "elfo         238\n",
       "guerreiro    242\n",
       "m@go           1\n",
       "mago         275\n",
       "orc          241\n",
       "dtype: int64"
      ]
     },
     "execution_count": 316,
     "metadata": {},
     "output_type": "execute_result"
    }
   ],
   "source": [
    "## Exibe a contagem de valores únicos na coluna Categoria\n",
    "df_categoria"
   ]
  },
  {
   "cell_type": "code",
   "execution_count": 318,
   "id": "76b337ed-4c9c-4f22-9e00-14d6a2c99d09",
   "metadata": {},
   "outputs": [],
   "source": [
    "## padronizando o valor mago\n",
    "df.loc[df['Categoria'] == 'm@go', 'Categoria'] = 'mago'"
   ]
  },
  {
   "cell_type": "code",
   "execution_count": 320,
   "id": "395e0dff-933e-4f42-a533-3dbfe0d85bf1",
   "metadata": {},
   "outputs": [
    {
     "data": {
      "text/plain": [
       "Categoria\n",
       "elfo         238\n",
       "guerreiro    242\n",
       "mago         276\n",
       "orc          241\n",
       "dtype: int64"
      ]
     },
     "execution_count": 320,
     "metadata": {},
     "output_type": "execute_result"
    }
   ],
   "source": [
    "## Verificar se o m@go foi padronizado para mago corretamente\n",
    "df.groupby(['Categoria']).size()"
   ]
  },
  {
   "cell_type": "code",
   "execution_count": 322,
   "id": "4ba7149a-6574-4bce-a89d-52da0b593cae",
   "metadata": {},
   "outputs": [],
   "source": [
    "## preenchendo os valores nulos com a moda\n",
    "df.fillna({'Categoria': 'mago'}, inplace = True)"
   ]
  },
  {
   "cell_type": "code",
   "execution_count": 324,
   "id": "8fdfd3f0-58d6-4ad6-bc42-60c663eb848f",
   "metadata": {},
   "outputs": [
    {
     "data": {
      "text/plain": [
       "0"
      ]
     },
     "execution_count": 324,
     "metadata": {},
     "output_type": "execute_result"
    }
   ],
   "source": [
    "## verificar se ainda existem nulos\n",
    "df['Categoria'].isnull().sum()"
   ]
  },
  {
   "cell_type": "markdown",
   "id": "cae1dba3-6293-4413-a2f8-55275c7195d5",
   "metadata": {},
   "source": [
    "## Pais"
   ]
  },
  {
   "cell_type": "code",
   "execution_count": 308,
   "id": "ac990a21-8b8e-4d9c-9457-5d6f5b8d6193",
   "metadata": {},
   "outputs": [
    {
     "data": {
      "text/plain": [
       "Pais\n",
       "%apan               1\n",
       "Australia           7\n",
       "Brazil            279\n",
       "C#nada              1\n",
       "Canada             93\n",
       "Italy              10\n",
       "Japan             130\n",
       "Mexico             74\n",
       "Portuga&            1\n",
       "Portugal          222\n",
       "Spain              14\n",
       "United Kingdom     16\n",
       "United States     150\n",
       "dtype: int64"
      ]
     },
     "execution_count": 308,
     "metadata": {},
     "output_type": "execute_result"
    }
   ],
   "source": [
    "## Exibe a contagem de valores únicos na coluna Categoria\n",
    "df_pais"
   ]
  },
  {
   "cell_type": "code",
   "execution_count": 310,
   "id": "e7febe43-e6be-4910-b94f-af225a12914f",
   "metadata": {},
   "outputs": [
    {
     "data": {
      "text/plain": [
       "Pais\n",
       "Australia           7\n",
       "Brazil            279\n",
       "Canada             94\n",
       "Italy              10\n",
       "Japan             131\n",
       "Mexico             74\n",
       "Portugal          223\n",
       "Spain              14\n",
       "United Kingdom     16\n",
       "United States     150\n",
       "dtype: int64"
      ]
     },
     "execution_count": 310,
     "metadata": {},
     "output_type": "execute_result"
    }
   ],
   "source": [
    "## Substituir os valores da '%apan'por 'Japan', 'C#nada'por 'Canada','Portuga&' por Portugal\n",
    "df['Pais'] = df['Pais'].replace({\n",
    "    '%apan': 'Japan',\n",
    "    'C#nada': 'Canada',\n",
    "    'Portuga&': 'Portugal'\n",
    "})\n",
    "\n",
    "## Verificar se foi substituido corretamente\n",
    "df.groupby(['Pais']).size()"
   ]
  },
  {
   "cell_type": "code",
   "execution_count": 312,
   "id": "bf83454e-51d0-458b-a2b6-7d24dec731a8",
   "metadata": {},
   "outputs": [],
   "source": [
    "## preenchendo os valores nulos com a moda\n",
    "df.fillna({'Pais': 'Brazil'}, inplace = True)"
   ]
  },
  {
   "cell_type": "code",
   "execution_count": 314,
   "id": "41aff42d-d406-4a3a-92a7-b09dd57202c6",
   "metadata": {},
   "outputs": [
    {
     "data": {
      "text/plain": [
       "0"
      ]
     },
     "execution_count": 314,
     "metadata": {},
     "output_type": "execute_result"
    }
   ],
   "source": [
    "## verificar se ainda existem nulos\n",
    "df['Pais'].isnull().sum()"
   ]
  },
  {
   "cell_type": "markdown",
   "id": "192bef5e-916b-4bc7-b806-f148390ad2c5",
   "metadata": {},
   "source": [
    "## Dados numéricos"
   ]
  },
  {
   "cell_type": "markdown",
   "id": "68b0fe6a-69b7-4279-9126-e2da3b568c4c",
   "metadata": {},
   "source": [
    "## Score"
   ]
  },
  {
   "cell_type": "code",
   "execution_count": 326,
   "id": "628476fd-2c9b-47ba-8a54-c44b7b7623eb",
   "metadata": {},
   "outputs": [
    {
     "data": {
      "text/plain": [
       "count       998.000000\n",
       "mean     496350.856713\n",
       "std      283458.860428\n",
       "min        -464.000000\n",
       "25%      259577.250000\n",
       "50%      497023.500000\n",
       "75%      745172.500000\n",
       "max      998871.000000\n",
       "Name: Score, dtype: float64"
      ]
     },
     "execution_count": 326,
     "metadata": {},
     "output_type": "execute_result"
    }
   ],
   "source": [
    "## Score\n",
    "df['Score'].describe()"
   ]
  },
  {
   "cell_type": "code",
   "execution_count": 328,
   "id": "64881079-a9c1-46a1-80eb-37ccc1081dd2",
   "metadata": {},
   "outputs": [
    {
     "data": {
      "text/plain": [
       "0      321057.0\n",
       "1      495527.0\n",
       "2      700848.0\n",
       "3      985558.0\n",
       "4      517633.0\n",
       "         ...   \n",
       "995    146132.0\n",
       "996    845482.0\n",
       "997    230131.0\n",
       "998    635044.0\n",
       "999    317887.0\n",
       "Name: Score, Length: 1000, dtype: float64"
      ]
     },
     "execution_count": 328,
     "metadata": {},
     "output_type": "execute_result"
    }
   ],
   "source": [
    "df['Score']"
   ]
  },
  {
   "cell_type": "code",
   "execution_count": 330,
   "id": "c1c37854-96bd-44a8-af2f-f8cf8c81bfbb",
   "metadata": {},
   "outputs": [
    {
     "data": {
      "text/plain": [
       "456111.5"
      ]
     },
     "execution_count": 330,
     "metadata": {},
     "output_type": "execute_result"
    }
   ],
   "source": [
    "## calcular a mediana do Score\n",
    "mediana_score = sts.median(df[\"Score\"])\n",
    "mediana_score"
   ]
  },
  {
   "cell_type": "code",
   "execution_count": 332,
   "id": "3982e539-62ca-42b1-8830-5061a392bdf3",
   "metadata": {},
   "outputs": [],
   "source": [
    "## preencher os valores nulos\n",
    "df.fillna({'Score': mediana_score}, inplace = True)"
   ]
  },
  {
   "cell_type": "code",
   "execution_count": 334,
   "id": "1d87e705-8d17-47ef-b05d-4df7919040a1",
   "metadata": {},
   "outputs": [
    {
     "data": {
      "text/plain": [
       "0"
      ]
     },
     "execution_count": 334,
     "metadata": {},
     "output_type": "execute_result"
    }
   ],
   "source": [
    "## verificar se ainda existem valores nulos\n",
    "df['Score'].isnull().sum()"
   ]
  },
  {
   "cell_type": "code",
   "execution_count": 336,
   "id": "1ff73535-d450-44b2-9b5b-eb0f9cf41929",
   "metadata": {},
   "outputs": [],
   "source": [
    "## substituir todos os valores menores que 0 e maiores que 1000000 pela mediana\n",
    "df.loc[(df[\"Score\"] < 0) | (df[\"Score\"] > 1000000 ), \"Score\"] = mediana_score"
   ]
  },
  {
   "cell_type": "code",
   "execution_count": 338,
   "id": "0220278c-8b23-4cfd-ab2f-3f9ad4d4c57e",
   "metadata": {},
   "outputs": [
    {
     "data": {
      "text/html": [
       "<div>\n",
       "<style scoped>\n",
       "    .dataframe tbody tr th:only-of-type {\n",
       "        vertical-align: middle;\n",
       "    }\n",
       "\n",
       "    .dataframe tbody tr th {\n",
       "        vertical-align: top;\n",
       "    }\n",
       "\n",
       "    .dataframe thead th {\n",
       "        text-align: right;\n",
       "    }\n",
       "</style>\n",
       "<table border=\"1\" class=\"dataframe\">\n",
       "  <thead>\n",
       "    <tr style=\"text-align: right;\">\n",
       "      <th></th>\n",
       "      <th>Id</th>\n",
       "      <th>Score</th>\n",
       "      <th>Nivel</th>\n",
       "      <th>Categoria</th>\n",
       "      <th>Idade</th>\n",
       "      <th>Pais</th>\n",
       "    </tr>\n",
       "  </thead>\n",
       "  <tbody>\n",
       "  </tbody>\n",
       "</table>\n",
       "</div>"
      ],
      "text/plain": [
       "Empty DataFrame\n",
       "Columns: [Id, Score, Nivel, Categoria, Idade, Pais]\n",
       "Index: []"
      ]
     },
     "execution_count": 338,
     "metadata": {},
     "output_type": "execute_result"
    }
   ],
   "source": [
    "## verificando se ainda existem valores fora do escopo(0 a 1000000)\n",
    "df.loc[(df[\"Score\"] < 0) | (df[\"Score\"] > 1000000 )]"
   ]
  },
  {
   "cell_type": "code",
   "execution_count": 340,
   "id": "2996b784-02d8-4d4e-94fc-274bc83428c8",
   "metadata": {},
   "outputs": [
    {
     "data": {
      "text/plain": [
       "count      1000.000000\n",
       "mean     496726.953500\n",
       "std      282746.734129\n",
       "min         884.000000\n",
       "25%      260677.500000\n",
       "50%      495862.000000\n",
       "75%      744387.500000\n",
       "max      998871.000000\n",
       "Name: Score, dtype: float64"
      ]
     },
     "execution_count": 340,
     "metadata": {},
     "output_type": "execute_result"
    }
   ],
   "source": [
    "df['Score'].describe()"
   ]
  },
  {
   "cell_type": "markdown",
   "id": "0083249b-ea76-4e5f-9fc0-3435a7427c87",
   "metadata": {},
   "source": [
    "## Nivel"
   ]
  },
  {
   "cell_type": "code",
   "execution_count": 342,
   "id": "056a564a-1986-4fcf-bb47-19279f0f338a",
   "metadata": {},
   "outputs": [
    {
     "data": {
      "text/plain": [
       "count     998.000000\n",
       "mean      495.098196\n",
       "std       288.395089\n",
       "min      -516.000000\n",
       "25%       247.750000\n",
       "50%       493.500000\n",
       "75%       742.000000\n",
       "max      1000.000000\n",
       "Name: Nivel, dtype: float64"
      ]
     },
     "execution_count": 342,
     "metadata": {},
     "output_type": "execute_result"
    }
   ],
   "source": [
    "## Nivel\n",
    "df['Nivel'].describe()"
   ]
  },
  {
   "cell_type": "code",
   "execution_count": 344,
   "id": "b8d4c865-1309-4b9b-b594-9f0860c28142",
   "metadata": {},
   "outputs": [
    {
     "data": {
      "text/plain": [
       "0      321.0\n",
       "1      466.0\n",
       "2      255.0\n",
       "3      679.0\n",
       "4      752.0\n",
       "       ...  \n",
       "995    417.0\n",
       "996    588.0\n",
       "997    660.0\n",
       "998    731.0\n",
       "999    477.0\n",
       "Name: Nivel, Length: 1000, dtype: float64"
      ]
     },
     "execution_count": 344,
     "metadata": {},
     "output_type": "execute_result"
    }
   ],
   "source": [
    "df['Nivel']"
   ]
  },
  {
   "cell_type": "code",
   "execution_count": 346,
   "id": "f55162e4-1cea-4632-93b6-9d26df137155",
   "metadata": {},
   "outputs": [
    {
     "data": {
      "text/plain": [
       "14.0"
      ]
     },
     "execution_count": 346,
     "metadata": {},
     "output_type": "execute_result"
    }
   ],
   "source": [
    "## calcular a mediana do Nivel\n",
    "mediana_nivel = sts.median(df[\"Nivel\"])\n",
    "mediana_nivel"
   ]
  },
  {
   "cell_type": "code",
   "execution_count": 348,
   "id": "97ad821a-ae69-443b-85b2-b836fb75b49a",
   "metadata": {},
   "outputs": [],
   "source": [
    "## preencher os valores nulos\n",
    "df.fillna({'Nivel': mediana_nivel}, inplace = True)"
   ]
  },
  {
   "cell_type": "code",
   "execution_count": 350,
   "id": "52501879-e4ac-4038-9a9b-19a979d62afc",
   "metadata": {},
   "outputs": [
    {
     "data": {
      "text/plain": [
       "0"
      ]
     },
     "execution_count": 350,
     "metadata": {},
     "output_type": "execute_result"
    }
   ],
   "source": [
    "df['Nivel'].isnull().sum()"
   ]
  },
  {
   "cell_type": "code",
   "execution_count": 352,
   "id": "fbd2d692-191a-4a0d-9890-98de21278f16",
   "metadata": {},
   "outputs": [],
   "source": [
    "## substituir todos os valores menores que 0 e maiores que 1000 pela mediana\n",
    "df.loc[(df[\"Nivel\"] < 0) | (df[\"Nivel\"] > 1000 ), \"Nivel\"] = mediana_nivel"
   ]
  },
  {
   "cell_type": "code",
   "execution_count": 354,
   "id": "23a160c1-615e-4d52-8560-ba016f862203",
   "metadata": {},
   "outputs": [
    {
     "data": {
      "text/html": [
       "<div>\n",
       "<style scoped>\n",
       "    .dataframe tbody tr th:only-of-type {\n",
       "        vertical-align: middle;\n",
       "    }\n",
       "\n",
       "    .dataframe tbody tr th {\n",
       "        vertical-align: top;\n",
       "    }\n",
       "\n",
       "    .dataframe thead th {\n",
       "        text-align: right;\n",
       "    }\n",
       "</style>\n",
       "<table border=\"1\" class=\"dataframe\">\n",
       "  <thead>\n",
       "    <tr style=\"text-align: right;\">\n",
       "      <th></th>\n",
       "      <th>Id</th>\n",
       "      <th>Score</th>\n",
       "      <th>Nivel</th>\n",
       "      <th>Categoria</th>\n",
       "      <th>Idade</th>\n",
       "      <th>Pais</th>\n",
       "    </tr>\n",
       "  </thead>\n",
       "  <tbody>\n",
       "  </tbody>\n",
       "</table>\n",
       "</div>"
      ],
      "text/plain": [
       "Empty DataFrame\n",
       "Columns: [Id, Score, Nivel, Categoria, Idade, Pais]\n",
       "Index: []"
      ]
     },
     "execution_count": 354,
     "metadata": {},
     "output_type": "execute_result"
    }
   ],
   "source": [
    "## verificando se ainda existem valores fora do escopo(0 a 1000)\n",
    "df.loc[(df[\"Nivel\"] < 0) | (df[\"Nivel\"] > 1000 )]"
   ]
  },
  {
   "cell_type": "code",
   "execution_count": 356,
   "id": "2ed2cd6e-e042-4822-ab38-bef511bc7531",
   "metadata": {},
   "outputs": [
    {
     "data": {
      "text/plain": [
       "count    1000.000000\n",
       "mean      494.783000\n",
       "std       287.315931\n",
       "min         1.000000\n",
       "25%       246.750000\n",
       "50%       492.500000\n",
       "75%       742.000000\n",
       "max      1000.000000\n",
       "Name: Nivel, dtype: float64"
      ]
     },
     "execution_count": 356,
     "metadata": {},
     "output_type": "execute_result"
    }
   ],
   "source": [
    "df['Nivel'].describe()"
   ]
  },
  {
   "cell_type": "markdown",
   "id": "5dcb453a-af5d-4e05-9ef4-f44791015a99",
   "metadata": {},
   "source": [
    "## Idade"
   ]
  },
  {
   "cell_type": "code",
   "execution_count": 358,
   "id": "8f89741a-9a65-4428-92cb-843ec9d0eddf",
   "metadata": {},
   "outputs": [
    {
     "data": {
      "text/plain": [
       "count    997.000000\n",
       "mean      56.822467\n",
       "std       25.249907\n",
       "min       12.000000\n",
       "25%       35.000000\n",
       "50%       59.000000\n",
       "75%       78.000000\n",
       "max      133.000000\n",
       "Name: Idade, dtype: float64"
      ]
     },
     "execution_count": 358,
     "metadata": {},
     "output_type": "execute_result"
    }
   ],
   "source": [
    "df['Idade'].describe()"
   ]
  },
  {
   "cell_type": "code",
   "execution_count": 360,
   "id": "2ff71c2f-be2a-495f-b6b7-e598b0101aa3",
   "metadata": {},
   "outputs": [
    {
     "data": {
      "text/plain": [
       "0      43.0\n",
       "1      16.0\n",
       "2      54.0\n",
       "3      87.0\n",
       "4      69.0\n",
       "       ... \n",
       "995    78.0\n",
       "996    69.0\n",
       "997    57.0\n",
       "998    17.0\n",
       "999    64.0\n",
       "Name: Idade, Length: 1000, dtype: float64"
      ]
     },
     "execution_count": 360,
     "metadata": {},
     "output_type": "execute_result"
    }
   ],
   "source": [
    "df['Idade']"
   ]
  },
  {
   "cell_type": "code",
   "execution_count": 362,
   "id": "80fa18b2-bc52-4f62-b96b-66babe9f787b",
   "metadata": {},
   "outputs": [
    {
     "data": {
      "text/plain": [
       "43.0"
      ]
     },
     "execution_count": 362,
     "metadata": {},
     "output_type": "execute_result"
    }
   ],
   "source": [
    "## calcular a mediana de Idade\n",
    "mediana_idade = sts.median(df[\"Idade\"])\n",
    "mediana_idade"
   ]
  },
  {
   "cell_type": "code",
   "execution_count": 364,
   "id": "57a811b6-0c39-4506-adce-8cfb65a62ec6",
   "metadata": {},
   "outputs": [],
   "source": [
    "## preencher os valores nulos\n",
    "df.fillna({'Idade': mediana_idade}, inplace = True)"
   ]
  },
  {
   "cell_type": "code",
   "execution_count": 366,
   "id": "8de9da2b-3f34-41ed-90e2-642ed44166c1",
   "metadata": {},
   "outputs": [
    {
     "data": {
      "text/plain": [
       "0"
      ]
     },
     "execution_count": 366,
     "metadata": {},
     "output_type": "execute_result"
    }
   ],
   "source": [
    "## Verificar se ainda existem valores nulos em Idade\n",
    "df['Idade'].isnull().sum()"
   ]
  },
  {
   "cell_type": "code",
   "execution_count": 368,
   "id": "4cae986f-13a3-4740-afaa-671cca54b7c6",
   "metadata": {},
   "outputs": [],
   "source": [
    "## substituir todos os valores menores que 0 e maiores que 100 pela mediana\n",
    "df.loc[(df[\"Idade\"] < 0) | (df[\"Idade\"] > 100 ), \"Idade\"] = mediana_idade"
   ]
  },
  {
   "cell_type": "code",
   "execution_count": 370,
   "id": "89ab3ee6-23b3-4cb1-bf71-4330e3369c38",
   "metadata": {},
   "outputs": [
    {
     "data": {
      "text/html": [
       "<div>\n",
       "<style scoped>\n",
       "    .dataframe tbody tr th:only-of-type {\n",
       "        vertical-align: middle;\n",
       "    }\n",
       "\n",
       "    .dataframe tbody tr th {\n",
       "        vertical-align: top;\n",
       "    }\n",
       "\n",
       "    .dataframe thead th {\n",
       "        text-align: right;\n",
       "    }\n",
       "</style>\n",
       "<table border=\"1\" class=\"dataframe\">\n",
       "  <thead>\n",
       "    <tr style=\"text-align: right;\">\n",
       "      <th></th>\n",
       "      <th>Id</th>\n",
       "      <th>Score</th>\n",
       "      <th>Nivel</th>\n",
       "      <th>Categoria</th>\n",
       "      <th>Idade</th>\n",
       "      <th>Pais</th>\n",
       "    </tr>\n",
       "  </thead>\n",
       "  <tbody>\n",
       "  </tbody>\n",
       "</table>\n",
       "</div>"
      ],
      "text/plain": [
       "Empty DataFrame\n",
       "Columns: [Id, Score, Nivel, Categoria, Idade, Pais]\n",
       "Index: []"
      ]
     },
     "execution_count": 370,
     "metadata": {},
     "output_type": "execute_result"
    }
   ],
   "source": [
    "## verificando se ainda existem valores fora do escopo(0 a 100)\n",
    "df.loc[(df[\"Idade\"] < 0) | (df[\"Idade\"] > 100 )]"
   ]
  },
  {
   "cell_type": "code",
   "execution_count": 372,
   "id": "6da5ebc1-f5d5-4c44-8468-4474e83f9c75",
   "metadata": {},
   "outputs": [
    {
     "data": {
      "text/plain": [
       "count    1000.000000\n",
       "mean       56.609000\n",
       "std        25.021835\n",
       "min        12.000000\n",
       "25%        35.000000\n",
       "50%        58.000000\n",
       "75%        78.000000\n",
       "max       100.000000\n",
       "Name: Idade, dtype: float64"
      ]
     },
     "execution_count": 372,
     "metadata": {},
     "output_type": "execute_result"
    }
   ],
   "source": [
    "df['Idade'].describe()"
   ]
  }
 ],
 "metadata": {
  "kernelspec": {
   "display_name": "Python [conda env:base] *",
   "language": "python",
   "name": "conda-base-py"
  },
  "language_info": {
   "codemirror_mode": {
    "name": "ipython",
    "version": 3
   },
   "file_extension": ".py",
   "mimetype": "text/x-python",
   "name": "python",
   "nbconvert_exporter": "python",
   "pygments_lexer": "ipython3",
   "version": "3.12.7"
  }
 },
 "nbformat": 4,
 "nbformat_minor": 5
}
